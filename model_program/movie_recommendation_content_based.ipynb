{
 "cells": [
  {
   "cell_type": "code",
   "execution_count": null,
   "id": "44e6fc03",
   "metadata": {},
   "outputs": [
    {
     "name": "stdout",
     "output_type": "stream",
     "text": [
      "Input dari user: zombie\n",
      "\n",
      "Rekomendasi film untuk Anda:\n",
      "1. Scouts Guide to the Zombie Apocalypse (2015)\n",
      "2. Scooby-Doo! Return to Zombie Island (2019)\n",
      "3. Newtopia (2025)\n",
      "4. Outside (2024)\n",
      "5. Zombie Detective (2020)\n",
      "6. All of Us Are Dead (2022)\n",
      "7. Warm Bodies (2013)\n",
      "8. One Cut of the Dead (2017)\n",
      "9. Onimusha (2023)\n",
      "10. Zom 100: Bucket List of the Dead (2023)\n"
     ]
    }
   ],
   "source": [
    "import pandas as pd\n",
    "from sklearn.feature_extraction.text import TfidfVectorizer\n",
    "from sklearn.metrics.pairwise import cosine_similarity\n",
    "\n",
    "# Load dataset\n",
    "def load_data():\n",
    "    df = pd.read_csv(\"data_model.csv\")\n",
    "    \n",
    "    # Pastikan kolom tidak kosong\n",
    "    df['genre'] = df['genre'].fillna('')\n",
    "    df['overview'] = df['overview'].fillna('')\n",
    "    df['title'] = df['title'].fillna('')\n",
    "    \n",
    "    return df[['title', 'genre', 'overview']]\n",
    "\n",
    "def preprocess_data(df):\n",
    "    # Gabungkan genre, overview, dan title, lalu konversi ke lowercase\n",
    "    df['combined_features'] = (df['genre'] + ' ' + df['overview'] + ' ' + df['title']).str.lower()\n",
    "    return df\n",
    "\n",
    "def train_model(df):\n",
    "    vectorizer = TfidfVectorizer(stop_words='english')\n",
    "    tfidf_matrix = vectorizer.fit_transform(df['combined_features'])\n",
    "    return vectorizer, tfidf_matrix\n",
    "\n",
    "def recommend_movies(user_input, df, vectorizer, tfidf_matrix):\n",
    "    # Transform input user ke dalam vektor TF-IDF\n",
    "    input_vector = vectorizer.transform([user_input.lower()])  # lowercase juga untuk input user\n",
    "    similarities = cosine_similarity(input_vector, tfidf_matrix)\n",
    "    \n",
    "    # Ambil skor kesamaan dan urutkan\n",
    "    scores = list(enumerate(similarities[0]))\n",
    "    scores = sorted(scores, key=lambda x: x[1], reverse=True)\n",
    "    \n",
    "    # Ambil 10 film teratas berdasarkan kesamaan\n",
    "    movie_indices = [i[0] for i in scores[:10]]\n",
    "    top_movies = df.iloc[movie_indices]\n",
    "    \n",
    "    return top_movies['title'].tolist()\n",
    "\n",
    "# Load dan proses data\n",
    "df = load_data()\n",
    "df = preprocess_data(df)\n",
    "vectorizer, tfidf_matrix = train_model(df)\n",
    "\n",
    "# Input dari user\n",
    "user_input = input(\"Masukkan genre, deskripsi, atau kata kunci film yang Anda cari: \")\n",
    "\n",
    "# Dapatkan rekomendasi\n",
    "recommendations = recommend_movies(user_input, df, vectorizer, tfidf_matrix)\n",
    "print(\"Input dari user:\", user_input)\n",
    "print(\"\\nRekomendasi film untuk Anda:\")\n",
    "for idx, title in enumerate(recommendations, 1):\n",
    "    print(f\"{idx}. {title}\")\n"
   ]
  }
 ],
 "metadata": {
  "kernelspec": {
   "display_name": "Python 3",
   "language": "python",
   "name": "python3"
  },
  "language_info": {
   "codemirror_mode": {
    "name": "ipython",
    "version": 3
   },
   "file_extension": ".py",
   "mimetype": "text/x-python",
   "name": "python",
   "nbconvert_exporter": "python",
   "pygments_lexer": "ipython3",
   "version": "3.11.5"
  }
 },
 "nbformat": 4,
 "nbformat_minor": 5
}
