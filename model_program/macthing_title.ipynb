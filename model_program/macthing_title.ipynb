{
 "cells": [
  {
   "cell_type": "code",
   "execution_count": null,
   "id": "d951d3ac",
   "metadata": {},
   "outputs": [
    {
     "name": "stdout",
     "output_type": "stream",
     "text": [
      "Processing mystery...\n",
      "Selesai update semua genre!\n"
     ]
    }
   ],
   "source": [
    "import psycopg2\n",
    "import pandas as pd\n",
    "from rapidfuzz import process, fuzz\n",
    "\n",
    "# Koneksi ke database PostgreSQL Anda\n",
    "conn = psycopg2.connect(\n",
    "    dbname=\"faztream_db\",\n",
    "    user=\"postgres\",      # ganti sesuai user Anda\n",
    "    password=\"admin123\",  # ganti sesuai password Anda\n",
    "    host=\"localhost\",\n",
    "    port=\"5432\"\n",
    ")\n",
    "cur = conn.cursor()\n",
    "\n",
    "# List semua tabel genre\n",
    "# genre_tables = [\n",
    "#     \"action\", \"adventure\", \"animation\", \"anime\", \"biography\", \"comedy\", \"crime\", \"drama\",\n",
    "#     \"family\", \"fantasy\", \"horror\", \"mystery\", \"romance\", \"science_fiction\", \"sport\", \"talk\", \"thriller\"\n",
    "# ]\n",
    "\n",
    "# khusus genre myster\n",
    "genre_tables = [\"mystery\"]\n",
    "\n",
    "# Ambil semua title dari movies\n",
    "cur.execute(\"SELECT id, title FROM movies\")\n",
    "movies = cur.fetchall()\n",
    "movie_titles = [row[1] for row in movies]\n",
    "\n",
    "for genre in genre_tables:\n",
    "    print(f\"Processing {genre}...\")\n",
    "    cur.execute(f\"SELECT title FROM {genre}\")\n",
    "    genre_titles = [row[0] for row in cur.fetchall()]\n",
    "\n",
    "    for g_title in genre_titles:\n",
    "        match, score, idx = process.extractOne(g_title, movie_titles, scorer=fuzz.token_sort_ratio)\n",
    "        # Jika skor cukup tinggi (misal >= 85), lakukan update\n",
    "        if score >= 65 and match != g_title:\n",
    "            cur.execute(\n",
    "                f\"UPDATE {genre} SET title = %s WHERE title = %s\",\n",
    "                (match, g_title)\n",
    "            )\n",
    "            print(f\"Updated {genre}: '{g_title}' -> '{match}' (score: {score})\")\n",
    "\n",
    "conn.commit()\n",
    "cur.close()\n",
    "conn.close()\n",
    "print(\"Selesai update semua genre!\")"
   ]
  }
 ],
 "metadata": {
  "kernelspec": {
   "display_name": "Python 3",
   "language": "python",
   "name": "python3"
  },
  "language_info": {
   "codemirror_mode": {
    "name": "ipython",
    "version": 3
   },
   "file_extension": ".py",
   "mimetype": "text/x-python",
   "name": "python",
   "nbconvert_exporter": "python",
   "pygments_lexer": "ipython3",
   "version": "3.11.4"
  }
 },
 "nbformat": 4,
 "nbformat_minor": 5
}
